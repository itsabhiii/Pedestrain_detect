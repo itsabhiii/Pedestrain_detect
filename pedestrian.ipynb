{
 "cells": [
  {
   "cell_type": "code",
   "execution_count": 5,
   "metadata": {},
   "outputs": [
    {
     "name": "stdout",
     "output_type": "stream",
     "text": [
      "Found 27 pedestrian!\n",
      "Image written to file-system :  True\n"
     ]
    }
   ],
   "source": [
    "import cv2\n",
    "import sys\n",
    "\n",
    "imagePath = sys.argv[1]\n",
    "cascPath = \"haarcascade_pedestrian.xml\"\n",
    "# cascPath = \"pedestrian_another.xml\"\n",
    "# cascPath = \"haarcascade_fullbody.xml\"\n",
    "\n",
    "pedsCascade =  cv2.CascadeClassifier(cascPath)\n",
    "\n",
    "# Read the image\n",
    "image = cv2.imread(\"C:\\\\Users\\\\Abhi\\\\Projects\\\\Pedestrain_detect\\\\file.jpg\")\n",
    "gray = cv2.cvtColor(image, cv2.COLOR_BGR2GRAY)\n",
    "\n",
    "# detect pedestrian in pic\n",
    "\n",
    "peds = pedsCascade.detectMultiScale(\n",
    "        gray,\n",
    "        scaleFactor=1.3,\n",
    "        minNeighbors=9,\n",
    "        minSize=(30, 30)\n",
    ")\n",
    "\n",
    "print(\"Found {0} pedestrian!\".format(len(peds)))\n",
    "\n",
    "# Draw a rectangle around the peds\n",
    "for (x, y, w, h) in peds:\n",
    "    cv2.rectangle(image, (x, y), (x+w, y+h), (0, 255, 0), 2)\n",
    "\n",
    "# cv2.imshow(\"Faces found\", image)\n",
    "status = cv2.imwrite('peds_saved.jpg', image)\n",
    "print (\"Image written to file-system : \",status)\n"
   ]
  },
  {
   "cell_type": "code",
   "execution_count": null,
   "metadata": {},
   "outputs": [],
   "source": []
  },
  {
   "cell_type": "code",
   "execution_count": null,
   "metadata": {},
   "outputs": [],
   "source": []
  }
 ],
 "metadata": {
  "kernelspec": {
   "display_name": "Python 3",
   "language": "python",
   "name": "python3"
  },
  "language_info": {
   "codemirror_mode": {
    "name": "ipython",
    "version": 3
   },
   "file_extension": ".py",
   "mimetype": "text/x-python",
   "name": "python",
   "nbconvert_exporter": "python",
   "pygments_lexer": "ipython3",
   "version": "3.6.10"
  }
 },
 "nbformat": 4,
 "nbformat_minor": 2
}
